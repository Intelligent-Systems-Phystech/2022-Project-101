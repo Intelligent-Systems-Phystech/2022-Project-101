{
 "cells": [
  {
   "cell_type": "code",
   "execution_count": 65,
   "id": "4e152abf",
   "metadata": {
    "ExecuteTime": {
     "end_time": "2022-03-29T22:53:18.788871Z",
     "start_time": "2022-03-29T22:53:18.766653Z"
    }
   },
   "outputs": [],
   "source": [
    "from autograd import elementwise_grad as egrad\n",
    "from autograd import jacobian\n",
    "import autograd.numpy as np\n",
    "import pandas as pd\n",
    "import scipy.stats as sps\n",
    "import os.path\n",
    "import os\n",
    "from sklearn.datasets import make_classification\n",
    "\n",
    "from scipy.optimize import minimize\n",
    "import seaborn as sns\n",
    "\n",
    "from PyPDF2 import PdfFileMerger\n",
    "\n",
    "sns.set(font_scale=2)\n",
    "sns.set_style('whitegrid')"
   ]
  },
  {
   "cell_type": "code",
   "execution_count": 66,
   "id": "9045111a",
   "metadata": {
    "ExecuteTime": {
     "end_time": "2022-03-29T22:53:19.373577Z",
     "start_time": "2022-03-29T22:53:19.361405Z"
    }
   },
   "outputs": [],
   "source": [
    "# Experiment params\n",
    "batch_sizes_list = [1, 2, 4, 8]\n",
    "lambda_list = [0.1, 0.001, 0.0001]\n",
    "\n",
    "data_file = '../data/saved_data3.4.csv'\n",
    "paper_dir = '../paper/'\n",
    "paper_file = 'Melnikov2022StochasticNewtonWithArbitrarySampling.tex'"
   ]
  },
  {
   "cell_type": "code",
   "execution_count": 67,
   "id": "a38fa222",
   "metadata": {
    "ExecuteTime": {
     "end_time": "2022-03-29T22:53:19.943206Z",
     "start_time": "2022-03-29T22:53:19.924358Z"
    }
   },
   "outputs": [],
   "source": [
    "# decorator that saves experiments results into the file\n",
    "# func has to return dataframe with the same columns\n",
    "\n",
    "def saver(filename):\n",
    "    def wraps(func):\n",
    "        def wrapper(*args, **argv):\n",
    "            res = func(*args, **argv)\n",
    "            lock.acquire()\n",
    "            if os.path.isfile(filename):\n",
    "               \n",
    "                df = pd.read_csv(filename)\n",
    "                version = 0.0 #df['version'].max() + 1\n",
    "                res['version'] = np.ones(len(res)) * version\n",
    "                df = df.append(res)\n",
    "#                 display(df)\n",
    "                df.to_csv(filename,index=False)\n",
    "                \n",
    "            else:\n",
    "                res['version'] = np.zeros(len(res), dtype=np.int32)\n",
    "                res.to_csv(filename, index=False)\n",
    "            lock.release()\n",
    "            return res\n",
    "        \n",
    "        return wrapper\n",
    "    return wraps\n",
    "\n",
    "\n",
    "def typer(type_name):\n",
    "    def wraps(func):\n",
    "        def wrapper(*args, **argv): \n",
    "            return func(*args, **argv)\n",
    "        wrapper.type = type_name\n",
    "        \n",
    "        return wrapper\n",
    "    return wraps"
   ]
  },
  {
   "cell_type": "code",
   "execution_count": 68,
   "id": "52537f62",
   "metadata": {
    "ExecuteTime": {
     "end_time": "2022-03-29T22:53:20.904882Z",
     "start_time": "2022-03-29T22:53:20.882503Z"
    }
   },
   "outputs": [],
   "source": [
    "def gen_f(a, b, l):\n",
    "    def func(x):\n",
    "        return l * np.linalg.norm(x) ** 2 + np.log(1.0 + np.exp(-b * (a * x).sum()))\n",
    "\n",
    "    return func\n",
    "\n",
    "def gen_grad_f(a, b, l):\n",
    "    def grad(x):\n",
    "        return 2 * l * x - b * a / (1.0 + np.exp(b * (a * x).sum()))\n",
    "    \n",
    "    return grad\n",
    "\n",
    "def gen_jacobian_f(a, b, l):\n",
    "    def jacobian(x):\n",
    "        ans = np.zeros((x.size, x.size))\n",
    "        \n",
    "        for i in range(x.size):\n",
    "            for j in range(x.size):\n",
    "                ans[i][j] = 2 * l * (i == j) + b**2 * np.exp(b * (a * x).sum()) / \\\n",
    "                            (1.0 + np.exp(b * (a * x).sum()))**2 * a[j] * a[i]\n",
    "        \n",
    "        return ans # 2 * l * x - b * a / (1.0 + np.exp(b * (a * x).sum()))\n",
    "    \n",
    "    return jacobian"
   ]
  },
  {
   "cell_type": "code",
   "execution_count": 69,
   "id": "7818e41b",
   "metadata": {
    "ExecuteTime": {
     "end_time": "2022-03-29T22:53:21.394803Z",
     "start_time": "2022-03-29T22:53:21.375991Z"
    }
   },
   "outputs": [],
   "source": [
    "N = 500\n",
    "d = 5\n",
    "\n",
    "As, bs = make_classification(n_samples = N, n_features=d)\n",
    "\n",
    "def gen_funcs(l):\n",
    "    F = [gen_f(a, b*2 - 1.0, l) for a, b in zip(As, bs)]\n",
    "    grad_F = [gen_grad_f(a, b*2 - 1.0, l) for a, b in zip(As, bs)]\n",
    "    jacobian_F = [gen_jacobian_f(a, b*2 - 1.0, l) for a, b in zip(As, bs)]\n",
    "    \n",
    "    \n",
    "    def FF(x):\n",
    "        return np.array([f(x) for f in F]).mean()\n",
    "    def grad_FF(x):\n",
    "        return np.array([grad_f(x) for grad_f in grad_F]).sum(axis=0)\n",
    "    return F, grad_F, jacobian_F, FF, grad_FF"
   ]
  },
  {
   "cell_type": "code",
   "execution_count": 70,
   "id": "c13445ea",
   "metadata": {
    "ExecuteTime": {
     "end_time": "2022-03-29T22:53:21.765588Z",
     "start_time": "2022-03-29T22:53:21.758491Z"
    }
   },
   "outputs": [],
   "source": [
    "def get_init(FF, grad_FF):\n",
    "    lambd = 0.0001\n",
    "\n",
    "    x0 = np.ones(d)\n",
    "\n",
    "    for _ in range(30):\n",
    "        grad = grad_FF(x0)\n",
    "        x0 -= lambd * grad\n",
    "\n",
    "    W_init = np.array([x0 for _ in range(N)])\n",
    "    x_opt = minimize(FF, np.ones(d))\n",
    "    return W_init, x_opt"
   ]
  },
  {
   "cell_type": "code",
   "execution_count": 72,
   "id": "17429f45",
   "metadata": {
    "ExecuteTime": {
     "end_time": "2022-03-29T22:53:24.960801Z",
     "start_time": "2022-03-29T22:53:24.943246Z"
    }
   },
   "outputs": [],
   "source": [
    "@typer('conventional')\n",
    "def sampling_conventional(n, batch_sz):\n",
    "    return sps.randint(0, n).rvs(size=batch_sz)\n",
    "\n",
    "@typer('important')\n",
    "def sampling_important(n, batch_sz):\n",
    "    if not hasattr(sampling_important, 'weights'):\n",
    "        arrs = (As[:, :, np.newaxis]*As[:, np.newaxis, :])\n",
    "    \n",
    "        weights = np.array([max(np.linalg.eig(x)[0]) for x in arrs])\n",
    "        weights = weights/weights.sum()\n",
    "        sampling_important.weights = weights\n",
    "    return sps.rv_discrete(values=(np.arange(n), sampling_important.weights)).rvs(size=batch_sz)\n"
   ]
  },
  {
   "cell_type": "code",
   "execution_count": 73,
   "id": "9b419766",
   "metadata": {
    "ExecuteTime": {
     "end_time": "2022-03-29T22:53:25.708147Z",
     "start_time": "2022-03-29T22:53:25.680414Z"
    }
   },
   "outputs": [],
   "source": [
    "# class that perfom SN(1) algorithm\n",
    "\n",
    "class SN:\n",
    "    def __init__(self, W_init, batch_sz, grad_F, jacobian_F, sampling):\n",
    "        self.grad_f = grad_F\n",
    "        self.jacobian_f = jacobian_F\n",
    "        self.n = W_init.shape[0]\n",
    "        self.W = W_init\n",
    "        self.batch_sz = batch_sz\n",
    "        self.x = W_init[0]\n",
    "#         self.x = x_init # np.zeros(W_init.shape[1])\n",
    "        self.Hs = np.array([jacobian_f(w) for w, jacobian_f in zip(self.W, self.jacobian_f)])\n",
    "        self.grad = np.array([grad_f(w) for w, grad_f in zip(self.W, self.grad_f)])\n",
    "        self.sampling = sampling\n",
    "\n",
    "    def generate_S(self):\n",
    "        return self.sampling(self.n, self.batch_sz)#sps.randint(0, self.n).rvs(size=self.batch_sz)\n",
    "\n",
    "    def make_step(self):\n",
    "        M = None\n",
    "        H_ = None\n",
    "        \n",
    "        for i in range(self.n):\n",
    "            H = self.Hs[i]\n",
    "            w = self.W[i]\n",
    "            gr = 1 * self.grad[i]\n",
    "\n",
    "            if M is None:\n",
    "                M = H.dot(w) - gr\n",
    "                H_ = H\n",
    "            else:\n",
    "                M = M + H.dot(w) - gr\n",
    "                H_ = H_ + H\n",
    "        M = M / self.n\n",
    "        H = H_ / self.n\n",
    "\n",
    "        self.x = np.linalg.inv(H).dot(M)\n",
    "\n",
    "        S = self.generate_S()\n",
    "\n",
    "        self.W[S] = self.x\n",
    "        for i in S:\n",
    "            self.Hs[i] = (self.jacobian_f[i])(self.W[i])\n",
    "            self.grad[i] = (self.grad_f[i])(self.W[i])"
   ]
  },
  {
   "cell_type": "code",
   "execution_count": 74,
   "id": "94f22ce9",
   "metadata": {
    "ExecuteTime": {
     "end_time": "2022-03-29T22:53:26.516691Z",
     "start_time": "2022-03-29T22:53:26.507837Z"
    }
   },
   "outputs": [],
   "source": [
    "from tqdm.notebook import tqdm\n",
    "import pandas as pd\n",
    "import matplotlib.pyplot as plt\n",
    "import seaborn as sns"
   ]
  },
  {
   "cell_type": "code",
   "execution_count": 75,
   "id": "4e228f3d",
   "metadata": {
    "ExecuteTime": {
     "end_time": "2022-03-29T22:53:27.147032Z",
     "start_time": "2022-03-29T22:53:27.125488Z"
    }
   },
   "outputs": [],
   "source": [
    "@saver(data_file)\n",
    "def run_experiment(batch_list, lambda_list, sampling):\n",
    "    data = []\n",
    "    for batch in batch_list:\n",
    "        for l in lambda_list:  \n",
    "            F, grad_F, jacobian_F, FF, grad_FF = gen_funcs(l)\n",
    "            W_init, x_opt = get_init(FF, grad_FF)\n",
    "\n",
    "            A0 = None # np.abs(x_opt.fun - FF(W_init[0]))\n",
    "            sn = SN(W_init, batch, grad_F, jacobian_F, sampling)\n",
    "            for i in (range(100)):\n",
    "                sn.make_step()\n",
    "                sampling_name = sn.sampling.type\n",
    "                if A0 is None:\n",
    "                    A0 = FF(sn.x) - x_opt.fun\n",
    "                data.append((batch, i, l, np.abs(FF(sn.x) - x_opt.fun)/A0, sampling_name))\n",
    "    return pd.DataFrame(data, columns=['batch_size', 'iter', 'lambda', 'Ak/A0', 'sampling'])\n",
    "\n",
    "\n",
    "def get_experiment_vesion(version = 0, filename=data_file):\n",
    "    df = pd.read_csv(filename)\n",
    "    if np.max(df['version']) < version:\n",
    "        raise RuntimeError()\n",
    "    df = df[np.logical_or(df['version'] == version, df['version'] == version - 1)]\n",
    "    \n",
    "    return df\n"
   ]
  },
  {
   "cell_type": "code",
   "execution_count": 76,
   "id": "ebe30e76",
   "metadata": {
    "ExecuteTime": {
     "end_time": "2022-03-29T22:53:27.854543Z",
     "start_time": "2022-03-29T22:53:27.840723Z"
    }
   },
   "outputs": [],
   "source": [
    "def make_task(lambda_list):\n",
    "    lambda_list = [lambda_list]\n",
    "    batch_sizes_list = [1, 2, 4, 8]\n",
    "#     print('*')\n",
    "    df = run_experiment(batch_sizes_list, lambda_list, sampling_conventional)\n",
    "    df = run_experiment(batch_sizes_list, lambda_list, sampling_important)"
   ]
  },
  {
   "cell_type": "code",
   "execution_count": 77,
   "id": "7b020bed",
   "metadata": {
    "ExecuteTime": {
     "end_time": "2022-03-29T22:53:57.307751Z",
     "start_time": "2022-03-29T22:53:28.503451Z"
    },
    "scrolled": true
   },
   "outputs": [
    {
     "name": "stdout",
     "output_type": "stream",
     "text": [
      "[None, None, None, None]\n"
     ]
    }
   ],
   "source": [
    "from multiprocessing import Pool\n",
    "import threading\n",
    "\n",
    "lock = threading.Lock()\n",
    "def f(x):\n",
    "    return x*x\n",
    "\n",
    "lambda_list = [float(x) for x in [0.0001, 0.001, 0.01, 0.1]]\n",
    "\n",
    "if __name__ == '__main__':\n",
    "    with Pool(14) as p:\n",
    "        print(p.map(make_task, list(lambda_list)))"
   ]
  }
 ],
 "metadata": {
  "kernelspec": {
   "display_name": "Python 3 (ipykernel)",
   "language": "python",
   "name": "python3"
  },
  "language_info": {
   "codemirror_mode": {
    "name": "ipython",
    "version": 3
   },
   "file_extension": ".py",
   "mimetype": "text/x-python",
   "name": "python",
   "nbconvert_exporter": "python",
   "pygments_lexer": "ipython3",
   "version": "3.7.11"
  },
  "latex_envs": {
   "LaTeX_envs_menu_present": true,
   "autoclose": false,
   "autocomplete": true,
   "bibliofile": "biblio.bib",
   "cite_by": "apalike",
   "current_citInitial": 1,
   "eqLabelWithNumbers": true,
   "eqNumInitial": 1,
   "hotkeys": {
    "equation": "Ctrl-E",
    "itemize": "Ctrl-I"
   },
   "labels_anchors": false,
   "latex_user_defs": false,
   "report_style_numbering": false,
   "user_envs_cfg": false
  },
  "varInspector": {
   "cols": {
    "lenName": 16,
    "lenType": 16,
    "lenVar": 40
   },
   "kernels_config": {
    "python": {
     "delete_cmd_postfix": "",
     "delete_cmd_prefix": "del ",
     "library": "var_list.py",
     "varRefreshCmd": "print(var_dic_list())"
    },
    "r": {
     "delete_cmd_postfix": ") ",
     "delete_cmd_prefix": "rm(",
     "library": "var_list.r",
     "varRefreshCmd": "cat(var_dic_list()) "
    }
   },
   "types_to_exclude": [
    "module",
    "function",
    "builtin_function_or_method",
    "instance",
    "_Feature"
   ],
   "window_display": false
  }
 },
 "nbformat": 4,
 "nbformat_minor": 5
}
