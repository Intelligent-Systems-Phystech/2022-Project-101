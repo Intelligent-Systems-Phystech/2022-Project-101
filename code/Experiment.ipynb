{
 "cells": [
  {
   "cell_type": "code",
   "execution_count": 1,
   "id": "e1d2703b",
   "metadata": {
    "ExecuteTime": {
     "end_time": "2022-04-27T19:16:44.172453Z",
     "start_time": "2022-04-27T19:16:44.161123Z"
    }
   },
   "outputs": [],
   "source": [
    "%load_ext autoreload\n",
    "%autoreload 2"
   ]
  },
  {
   "cell_type": "code",
   "execution_count": 2,
   "id": "concrete-consolidation",
   "metadata": {
    "ExecuteTime": {
     "end_time": "2022-04-27T19:16:45.291185Z",
     "start_time": "2022-04-27T19:16:44.173634Z"
    }
   },
   "outputs": [],
   "source": [
    "from autograd import elementwise_grad as egrad\n",
    "from autograd import jacobian\n",
    "import autograd.numpy as np\n",
    "import pandas as pd\n",
    "import scipy.stats as sps\n",
    "import os.path\n",
    "import os\n",
    "from sklearn.datasets import make_classification\n",
    "\n",
    "from scipy.optimize import minimize\n",
    "import seaborn as sns\n",
    "\n",
    "from PyPDF2 import PdfFileMerger\n",
    "\n",
    "# from .SN import SN\n",
    "\n",
    "sns.set(font_scale=2)\n",
    "sns.set_style('whitegrid')"
   ]
  },
  {
   "cell_type": "code",
   "execution_count": 3,
   "id": "399de9c0",
   "metadata": {
    "ExecuteTime": {
     "end_time": "2022-04-27T19:16:45.312342Z",
     "start_time": "2022-04-27T19:16:45.293266Z"
    }
   },
   "outputs": [],
   "source": [
    "class SN:\n",
    "    def __init__(self, W_init, batch_sz, grad_F, jacobian_F, sampling):\n",
    "        self.grad_f = grad_F\n",
    "        self.jacobian_f = jacobian_F\n",
    "        self.n = W_init.shape[0]\n",
    "        self.W = W_init\n",
    "        self.batch_sz = batch_sz\n",
    "        self.x = W_init[0]\n",
    "\n",
    "        self.Hs = np.array([jacobian_f(w) for w, jacobian_f in zip(self.W, self.jacobian_f)])\n",
    "        self.grad = np.array([grad_f(w) for w, grad_f in zip(self.W, self.grad_f)])\n",
    "        self.sampling = sampling\n",
    "\n",
    "    def generate_S(self):\n",
    "        return self.sampling(self.n, self.batch_sz)#sps.randint(0, self.n).rvs(size=self.batch_sz)\n",
    "\n",
    "    def make_step(self):\n",
    "        M = None\n",
    "        H_ = None\n",
    "        \n",
    "        for i in range(self.n):\n",
    "            H = self.Hs[i]\n",
    "            w = self.W[i]\n",
    "            gr = 1 * self.grad[i]\n",
    "\n",
    "            if M is None:\n",
    "                M = H.dot(w) - gr\n",
    "                H_ = H\n",
    "            else:\n",
    "                M = M + H.dot(w) - gr\n",
    "                H_ = H_ + H\n",
    "        M = M / self.n\n",
    "        H = H_ / self.n\n",
    "\n",
    "        self.x = np.linalg.inv(H).dot(M)\n",
    "\n",
    "        S = self.generate_S()\n",
    "\n",
    "        self.W[S] = self.x\n",
    "        for i in S:\n",
    "            self.Hs[i] = (self.jacobian_f[i])(self.W[i])\n",
    "            self.grad[i] = (self.grad_f[i])(self.W[i])"
   ]
  },
  {
   "cell_type": "code",
   "execution_count": 4,
   "id": "71ce3a21",
   "metadata": {
    "ExecuteTime": {
     "end_time": "2022-04-27T19:16:45.328304Z",
     "start_time": "2022-04-27T19:16:45.313708Z"
    }
   },
   "outputs": [],
   "source": [
    "# Experiment params\n",
    "batch_sizes_list = [1, 2, 4, 8]\n",
    "lambda_list = [0.1, 0.001, 0.0001]\n",
    "\n",
    "data_file = '../data/saved_data_new.csv'\n",
    "paper_dir = '../paper/'\n",
    "paper_file = 'Melnikov2022StochasticNewtonWithArbitrarySampling.tex'"
   ]
  },
  {
   "cell_type": "code",
   "execution_count": 5,
   "id": "b1f1125e",
   "metadata": {
    "ExecuteTime": {
     "end_time": "2022-04-27T19:16:45.346714Z",
     "start_time": "2022-04-27T19:16:45.330018Z"
    }
   },
   "outputs": [],
   "source": [
    "# decorator that saves experiments results into the file\n",
    "# func has to return dataframe with the same columns\n",
    "\n",
    "def saver(filename):\n",
    "    def wraps(func):\n",
    "        def wrapper(*args, **argv):\n",
    "            res = func(*args, **argv)\n",
    "            if os.path.isfile(filename):\n",
    "                df = pd.read_csv(filename)\n",
    "#                 version = df['version'].max() + 1\n",
    "#                 res['version'] = np.ones(len(res)) * version\n",
    "                df = df.append(res)\n",
    "#                 display(df)\n",
    "                df.to_csv(filename,index=False)\n",
    "            else:\n",
    "#                 res['version'] = np.zeros(len(res), dtype=np.int32)\n",
    "                res.to_csv(filename, index=False)\n",
    "            return res\n",
    "        \n",
    "        return wrapper\n",
    "    return wraps\n",
    "\n",
    "\n",
    "def typer(type_name):\n",
    "    def wraps(func):\n",
    "        def wrapper(*args, **argv): \n",
    "            return func(*args, **argv)\n",
    "        wrapper.type = type_name\n",
    "        \n",
    "        return wrapper\n",
    "    return wraps"
   ]
  },
  {
   "cell_type": "code",
   "execution_count": 6,
   "id": "vocational-certification",
   "metadata": {
    "ExecuteTime": {
     "end_time": "2022-04-27T19:16:45.365082Z",
     "start_time": "2022-04-27T19:16:45.348085Z"
    }
   },
   "outputs": [],
   "source": [
    "def gen_f(a, b, l):\n",
    "    def func(x):\n",
    "        return l * np.linalg.norm(x) ** 2 + np.log(1.0 + np.exp(-b * (a * x).sum()))\n",
    "\n",
    "    return func\n",
    "\n",
    "def gen_grad_f(a, b, l):\n",
    "    def grad(x):\n",
    "        return 2 * l * x - b * a / (1.0 + np.exp(b * (a * x).sum()))\n",
    "    \n",
    "    return grad\n",
    "\n",
    "def gen_jacobian_f(a, b, l):\n",
    "    def jacobian(x):\n",
    "        ans = np.zeros((x.size, x.size))\n",
    "        \n",
    "        for i in range(x.size):\n",
    "            for j in range(x.size):\n",
    "                ans[i][j] = 2 * l * (i == j) + b**2 * np.exp(b * (a * x).sum()) / \\\n",
    "                            (1.0 + np.exp(b * (a * x).sum()))**2 * a[j] * a[i]\n",
    "        \n",
    "        return ans # 2 * l * x - b * a / (1.0 + np.exp(b * (a * x).sum()))\n",
    "    \n",
    "    return jacobian"
   ]
  },
  {
   "cell_type": "code",
   "execution_count": 7,
   "id": "secret-christian",
   "metadata": {
    "ExecuteTime": {
     "end_time": "2022-04-27T19:16:45.407514Z",
     "start_time": "2022-04-27T19:16:45.366574Z"
    }
   },
   "outputs": [],
   "source": [
    "N = 500\n",
    "d = 5\n",
    "\n",
    "As, bs = make_classification(n_samples = N, n_features=d)\n",
    "\n",
    "def gen_funcs(l):\n",
    "    F = [gen_f(a, b*2 - 1.0, l) for a, b in zip(As, bs)]\n",
    "    grad_F = [gen_grad_f(a, b*2 - 1.0, l) for a, b in zip(As, bs)]\n",
    "    jacobian_F = [gen_jacobian_f(a, b*2 - 1.0, l) for a, b in zip(As, bs)]\n",
    "    \n",
    "    \n",
    "    def FF(x):\n",
    "        return np.array([f(x) for f in F]).mean()\n",
    "    def grad_FF(x):\n",
    "        return np.array([grad_f(x) for grad_f in grad_F]).sum(axis=0)\n",
    "    return F, grad_F, jacobian_F, FF, grad_FF"
   ]
  },
  {
   "cell_type": "code",
   "execution_count": 8,
   "id": "colored-indianapolis",
   "metadata": {
    "ExecuteTime": {
     "end_time": "2022-04-27T19:16:45.425240Z",
     "start_time": "2022-04-27T19:16:45.409233Z"
    }
   },
   "outputs": [],
   "source": [
    "def get_init(FF, grad_FF):\n",
    "    lambd = 0.0001\n",
    "\n",
    "    x0 = np.ones(d)\n",
    "\n",
    "    for _ in range(30):\n",
    "        grad = grad_FF(x0)\n",
    "        x0 -= lambd * grad\n",
    "\n",
    "    W_init = np.array([x0 for _ in range(N)])\n",
    "    x_opt = minimize(FF, np.ones(d))\n",
    "    return W_init, x_opt"
   ]
  },
  {
   "cell_type": "code",
   "execution_count": 9,
   "id": "1a09a757",
   "metadata": {
    "ExecuteTime": {
     "end_time": "2022-04-27T19:16:45.442845Z",
     "start_time": "2022-04-27T19:16:45.426523Z"
    }
   },
   "outputs": [],
   "source": [
    "@typer('conventional')\n",
    "def sampling_conventional(n, batch_sz):\n",
    "    return sps.randint(0, n).rvs(size=batch_sz)\n",
    "\n",
    "@typer('important')\n",
    "def sampling_important(n, batch_sz):\n",
    "    if not hasattr(sampling_important, 'weights'):\n",
    "        arrs = (As[:, :, np.newaxis]*As[:, np.newaxis, :])\n",
    "    \n",
    "        weights = np.array([max(np.linalg.eig(x)[0]) for x in arrs])\n",
    "        weights = weights/weights.sum()\n",
    "        sampling_important.weights = weights\n",
    "    return sps.rv_discrete(values=(np.arange(n), sampling_important.weights)).rvs(size=batch_sz)"
   ]
  },
  {
   "cell_type": "code",
   "execution_count": 10,
   "id": "classified-valentine",
   "metadata": {
    "ExecuteTime": {
     "end_time": "2022-04-27T19:16:45.461720Z",
     "start_time": "2022-04-27T19:16:45.444040Z"
    }
   },
   "outputs": [],
   "source": [
    "from tqdm.notebook import tqdm\n",
    "import pandas as pd\n",
    "import matplotlib.pyplot as plt\n",
    "import seaborn as sns"
   ]
  },
  {
   "cell_type": "code",
   "execution_count": 11,
   "id": "hidden-distributor",
   "metadata": {
    "ExecuteTime": {
     "end_time": "2022-04-27T19:16:45.486160Z",
     "start_time": "2022-04-27T19:16:45.463241Z"
    },
    "scrolled": false
   },
   "outputs": [],
   "source": [
    "@saver(data_file)\n",
    "def run_experiment(batch_list, lambda_list, sampling):\n",
    "    data = []\n",
    "    for batch in tqdm(batch_list):\n",
    "        for l in lambda_list:  \n",
    "            F, grad_F, jacobian_F, FF, grad_FF = gen_funcs(l)\n",
    "            W_init, x_opt = get_init(FF, grad_FF)\n",
    "\n",
    "            A0 = None # np.abs(x_opt.fun - FF(W_init[0]))\n",
    "            sn = SN(W_init, batch, grad_F, jacobian_F, sampling)\n",
    "            for i in (range(100)):\n",
    "                sn.make_step()\n",
    "                sampling_name = sn.sampling.type\n",
    "                if A0 is None:\n",
    "                    A0 = FF(sn.x) - x_opt.fun\n",
    "                data.append((batch, i, l, np.abs(FF(sn.x) - x_opt.fun)/A0, sampling_name))\n",
    "    return pd.DataFrame(data, columns=['batch_size', 'iter', 'lambda', 'Ak/A0', 'sampling'])\n",
    "\n",
    "\n",
    "def get_experiment_vesion(version = 0, filename=data_file):\n",
    "    df = pd.read_csv(filename)\n",
    "#     if np.max(df['version']) < version:\n",
    "#         raise RuntimeError()\n",
    "#     df = df[np.logical_or(df['version'] == version, df['version'] == version - 1)]\n",
    "    \n",
    "    return df\n",
    "\n",
    "def get_experiment_ves(version = 0, filename=data_file):\n",
    "    df = pd.read_csv(filename)\n",
    "#     if np.max(df['version']) < version:\n",
    "#         raise RuntimeError()\n",
    "#     df = df[df['version'] == version]\n",
    "    \n",
    "    return df\n",
    "\n",
    "\n",
    "def save_plots(df, dir_name, name='', save_func = plt.savefig):\n",
    "    if not hasattr(save_plots, 'saved'):\n",
    "        save_plots.saved = []\n",
    "    for i, l in enumerate(lambda_list):\n",
    "        plt.figure(figsize=(12, 9))\n",
    "#         plt.subplot(3, 1, i + 1)\n",
    "        subdata = df[df['lambda'] == l]\n",
    "        sns.lineplot(data=subdata, x='iter', y='Ak/A0', hue='batch_size')\n",
    "\n",
    "        plt.title(f'{name}\\n'+ fr'$\\lambda$ = {l}')\n",
    "        plt.xlabel('k')\n",
    "        plt.ylabel(r'$\\frac{A_k}{A_0}$')\n",
    "\n",
    "        fname = f'{dir_name}/plot{name}_{i}.pdf'\n",
    "        save_func(fname)\n",
    "        save_plots.saved.append(fname)\n",
    "\n",
    "    \n",
    "def save_plot(df, dir_name, name=''):\n",
    "    plt.figure(figsize=(12, 20))\n",
    "\n",
    "    for i, l in enumerate(lambda_list):\n",
    "        plt.subplot(3, 1, i + 1)\n",
    "        subdata = df[df['lambda'] == l]\n",
    "        sns.lineplot(data=subdata, x='iter', y='Ak/A0', hue='batch_size')\n",
    "\n",
    "        plt.title(fr'$\\lambda$ = {l}')\n",
    "        plt.xlabel('k')\n",
    "        plt.ylabel(r'$\\frac{A_k}{A_0}$')\n",
    "        \n",
    "        \n",
    "\n",
    "    plt.savefig(f'{dir_name}/plot{name}_{i}.png')\n",
    "    cwd = os.getcwd()\n",
    "\n",
    "    os.chdir(paper_dir)\n",
    "    os.system(f'pdflatex {paper_file}')\n",
    "    os.chdir(cwd)\n",
    "\n",
    "\n",
    "def join_files(pdfs, out_file = \"../data/plots_list.pdf\"):\n",
    "    merger = PdfFileMerger()\n",
    "    for pdf in pdfs:\n",
    "        merger.append(pdf)\n",
    "    merger.write(out_file)\n",
    "    merger.close()\n",
    "    \n",
    "\n",
    "def clear_files(files):\n",
    "    for file in files:\n",
    "        os.system(f'rm {file}')"
   ]
  },
  {
   "cell_type": "code",
   "execution_count": 12,
   "id": "eca9a1e5",
   "metadata": {
    "ExecuteTime": {
     "end_time": "2022-04-27T19:16:45.502781Z",
     "start_time": "2022-04-27T19:16:45.489883Z"
    },
    "scrolled": false
   },
   "outputs": [],
   "source": [
    "# df = run_experiment(batch_sizes_list, lambda_list, sampling_conventional)\n",
    "# save_plots(df, '../data/', 'conventional', plt.show)\n",
    "# df = run_experiment(batch_sizes_list, lambda_list, sampling_important)\n",
    "# save_plots(df, '../data/', 'important', plt.show)\n",
    "# # join_files(save_plots.saved)\n",
    "# # clear_files(save_plots.saved)"
   ]
  },
  {
   "cell_type": "code",
   "execution_count": 112,
   "id": "9877d467",
   "metadata": {
    "ExecuteTime": {
     "end_time": "2022-04-27T20:45:26.610772Z",
     "start_time": "2022-04-27T20:45:26.582701Z"
    }
   },
   "outputs": [],
   "source": [
    "def make_df(file, batch_sizes_list, lambda_list):\n",
    "    df = None\n",
    "    for i in range(10):\n",
    "        df1 = run_experiment(batch_sizes_list, lambda_list, sampling_conventional)\n",
    "        df2 = run_experiment(batch_sizes_list, lambda_list, sampling_important)\n",
    "\n",
    "        df1['version'] = i\n",
    "        df2['version'] = i\n",
    "        if df is None:\n",
    "            df = df1.append(df2)\n",
    "        else:\n",
    "            df = df.append(df1)\n",
    "            df = df.append(df2)\n",
    "    df.to_csv(file)"
   ]
  },
  {
   "cell_type": "code",
   "execution_count": 121,
   "id": "7e4b10e1",
   "metadata": {
    "ExecuteTime": {
     "end_time": "2022-04-27T20:47:32.274546Z",
     "start_time": "2022-04-27T20:47:32.229580Z"
    }
   },
   "outputs": [
    {
     "data": {
      "text/plain": [
       "array([0.02564103, 0.07692308, 0.12820513, 0.17948718, 0.23076923,\n",
       "       0.28205128, 0.33333333, 0.38461538, 0.43589744, 0.48717949,\n",
       "       0.53846154, 0.58974359, 0.64102564, 0.69230769, 0.74358974,\n",
       "       0.79487179, 0.84615385, 0.8974359 , 0.94871795, 1.        ])"
      ]
     },
     "execution_count": 121,
     "metadata": {},
     "output_type": "execute_result"
    }
   ],
   "source": [
    "np.linspace(0, 1, 40)[1::2]"
   ]
  },
  {
   "cell_type": "code",
   "execution_count": 122,
   "id": "05e46cf6",
   "metadata": {
    "ExecuteTime": {
     "end_time": "2022-04-27T21:40:05.306686Z",
     "start_time": "2022-04-27T20:47:54.327658Z"
    }
   },
   "outputs": [
    {
     "data": {
      "application/vnd.jupyter.widget-view+json": {
       "model_id": "7f947b05ae104d4fbd75ea9d89a56374",
       "version_major": 2,
       "version_minor": 0
      },
      "text/plain": [
       "  0%|          | 0/4 [00:00<?, ?it/s]"
      ]
     },
     "metadata": {},
     "output_type": "display_data"
    },
    {
     "data": {
      "application/vnd.jupyter.widget-view+json": {
       "model_id": "93d91e61127f48f287984bde23d67295",
       "version_major": 2,
       "version_minor": 0
      },
      "text/plain": [
       "  0%|          | 0/4 [00:00<?, ?it/s]"
      ]
     },
     "metadata": {},
     "output_type": "display_data"
    },
    {
     "data": {
      "application/vnd.jupyter.widget-view+json": {
       "model_id": "e397eb05879146648f3aa22d7df1ccba",
       "version_major": 2,
       "version_minor": 0
      },
      "text/plain": [
       "  0%|          | 0/4 [00:00<?, ?it/s]"
      ]
     },
     "metadata": {},
     "output_type": "display_data"
    },
    {
     "data": {
      "application/vnd.jupyter.widget-view+json": {
       "model_id": "768bb630695c488684f21f7076f8d197",
       "version_major": 2,
       "version_minor": 0
      },
      "text/plain": [
       "  0%|          | 0/4 [00:00<?, ?it/s]"
      ]
     },
     "metadata": {},
     "output_type": "display_data"
    },
    {
     "data": {
      "application/vnd.jupyter.widget-view+json": {
       "model_id": "54d257d0b6d64ff49b239826f1eddb1f",
       "version_major": 2,
       "version_minor": 0
      },
      "text/plain": [
       "  0%|          | 0/4 [00:00<?, ?it/s]"
      ]
     },
     "metadata": {},
     "output_type": "display_data"
    },
    {
     "data": {
      "application/vnd.jupyter.widget-view+json": {
       "model_id": "1a2bc2f22c6b4a409ff8253f876e2916",
       "version_major": 2,
       "version_minor": 0
      },
      "text/plain": [
       "  0%|          | 0/4 [00:00<?, ?it/s]"
      ]
     },
     "metadata": {},
     "output_type": "display_data"
    },
    {
     "data": {
      "application/vnd.jupyter.widget-view+json": {
       "model_id": "f943104d6b5f4c3e8d26d9977635d29c",
       "version_major": 2,
       "version_minor": 0
      },
      "text/plain": [
       "  0%|          | 0/4 [00:00<?, ?it/s]"
      ]
     },
     "metadata": {},
     "output_type": "display_data"
    },
    {
     "data": {
      "application/vnd.jupyter.widget-view+json": {
       "model_id": "3acb18a4908340fd922f9bf8bce1763c",
       "version_major": 2,
       "version_minor": 0
      },
      "text/plain": [
       "  0%|          | 0/4 [00:00<?, ?it/s]"
      ]
     },
     "metadata": {},
     "output_type": "display_data"
    },
    {
     "data": {
      "application/vnd.jupyter.widget-view+json": {
       "model_id": "cfff117c429f4518ac1b561e2e71837a",
       "version_major": 2,
       "version_minor": 0
      },
      "text/plain": [
       "  0%|          | 0/4 [00:00<?, ?it/s]"
      ]
     },
     "metadata": {},
     "output_type": "display_data"
    },
    {
     "data": {
      "application/vnd.jupyter.widget-view+json": {
       "model_id": "b9f05d9b3b84442fa5ce4ab9567290ca",
       "version_major": 2,
       "version_minor": 0
      },
      "text/plain": [
       "  0%|          | 0/4 [00:00<?, ?it/s]"
      ]
     },
     "metadata": {},
     "output_type": "display_data"
    },
    {
     "data": {
      "application/vnd.jupyter.widget-view+json": {
       "model_id": "9bcca18cc69c425889c1fc19e3637058",
       "version_major": 2,
       "version_minor": 0
      },
      "text/plain": [
       "  0%|          | 0/4 [00:00<?, ?it/s]"
      ]
     },
     "metadata": {},
     "output_type": "display_data"
    },
    {
     "data": {
      "application/vnd.jupyter.widget-view+json": {
       "model_id": "9a4282fbf94047418ae0ceae1f63ee5b",
       "version_major": 2,
       "version_minor": 0
      },
      "text/plain": [
       "  0%|          | 0/4 [00:00<?, ?it/s]"
      ]
     },
     "metadata": {},
     "output_type": "display_data"
    },
    {
     "data": {
      "application/vnd.jupyter.widget-view+json": {
       "model_id": "d74faca1ac0c412d801ff78637ce291d",
       "version_major": 2,
       "version_minor": 0
      },
      "text/plain": [
       "  0%|          | 0/4 [00:00<?, ?it/s]"
      ]
     },
     "metadata": {},
     "output_type": "display_data"
    },
    {
     "data": {
      "application/vnd.jupyter.widget-view+json": {
       "model_id": "632f9085c61f495f93cfc5050ea13f28",
       "version_major": 2,
       "version_minor": 0
      },
      "text/plain": [
       "  0%|          | 0/4 [00:00<?, ?it/s]"
      ]
     },
     "metadata": {},
     "output_type": "display_data"
    },
    {
     "data": {
      "application/vnd.jupyter.widget-view+json": {
       "model_id": "5832882175f64fa7aeceebad9d62708c",
       "version_major": 2,
       "version_minor": 0
      },
      "text/plain": [
       "  0%|          | 0/4 [00:00<?, ?it/s]"
      ]
     },
     "metadata": {},
     "output_type": "display_data"
    },
    {
     "data": {
      "application/vnd.jupyter.widget-view+json": {
       "model_id": "868362ffda3a45f59b127eab92361bb1",
       "version_major": 2,
       "version_minor": 0
      },
      "text/plain": [
       "  0%|          | 0/4 [00:00<?, ?it/s]"
      ]
     },
     "metadata": {},
     "output_type": "display_data"
    },
    {
     "data": {
      "application/vnd.jupyter.widget-view+json": {
       "model_id": "f9fbc5807a2d4b619b19410606f0e56b",
       "version_major": 2,
       "version_minor": 0
      },
      "text/plain": [
       "  0%|          | 0/4 [00:00<?, ?it/s]"
      ]
     },
     "metadata": {},
     "output_type": "display_data"
    },
    {
     "data": {
      "application/vnd.jupyter.widget-view+json": {
       "model_id": "817e998fa8f349fca4bdba781b25b193",
       "version_major": 2,
       "version_minor": 0
      },
      "text/plain": [
       "  0%|          | 0/4 [00:00<?, ?it/s]"
      ]
     },
     "metadata": {},
     "output_type": "display_data"
    },
    {
     "data": {
      "application/vnd.jupyter.widget-view+json": {
       "model_id": "157880860fa947dd9163363c0915f39b",
       "version_major": 2,
       "version_minor": 0
      },
      "text/plain": [
       "  0%|          | 0/4 [00:00<?, ?it/s]"
      ]
     },
     "metadata": {},
     "output_type": "display_data"
    },
    {
     "data": {
      "application/vnd.jupyter.widget-view+json": {
       "model_id": "88884a68306d45f38cdfc3e28e863c7a",
       "version_major": 2,
       "version_minor": 0
      },
      "text/plain": [
       "  0%|          | 0/4 [00:00<?, ?it/s]"
      ]
     },
     "metadata": {},
     "output_type": "display_data"
    }
   ],
   "source": [
    "make_df('df_many', batch_sizes_list, np.linspace(0, 1, 40)[1::2])"
   ]
  },
  {
   "cell_type": "code",
   "execution_count": 49,
   "id": "ccc0d175",
   "metadata": {
    "ExecuteTime": {
     "end_time": "2022-04-27T19:49:29.149531Z",
     "start_time": "2022-04-27T19:40:23.295947Z"
    }
   },
   "outputs": [
    {
     "data": {
      "application/vnd.jupyter.widget-view+json": {
       "model_id": "1935503ae56c4573920f6f2c8084fcaa",
       "version_major": 2,
       "version_minor": 0
      },
      "text/plain": [
       "  0%|          | 0/4 [00:00<?, ?it/s]"
      ]
     },
     "metadata": {},
     "output_type": "display_data"
    },
    {
     "data": {
      "application/vnd.jupyter.widget-view+json": {
       "model_id": "8b998c3595d748a59f6a944e3c29fee6",
       "version_major": 2,
       "version_minor": 0
      },
      "text/plain": [
       "  0%|          | 0/4 [00:00<?, ?it/s]"
      ]
     },
     "metadata": {},
     "output_type": "display_data"
    },
    {
     "data": {
      "application/vnd.jupyter.widget-view+json": {
       "model_id": "ad42de86ec7f481eaa979bf2fae79404",
       "version_major": 2,
       "version_minor": 0
      },
      "text/plain": [
       "  0%|          | 0/4 [00:00<?, ?it/s]"
      ]
     },
     "metadata": {},
     "output_type": "display_data"
    },
    {
     "data": {
      "application/vnd.jupyter.widget-view+json": {
       "model_id": "2e07d670ec524774bfab6cf218ac7cce",
       "version_major": 2,
       "version_minor": 0
      },
      "text/plain": [
       "  0%|          | 0/4 [00:00<?, ?it/s]"
      ]
     },
     "metadata": {},
     "output_type": "display_data"
    },
    {
     "data": {
      "application/vnd.jupyter.widget-view+json": {
       "model_id": "edde92f55b23465baeb9450d1ec5c00c",
       "version_major": 2,
       "version_minor": 0
      },
      "text/plain": [
       "  0%|          | 0/4 [00:00<?, ?it/s]"
      ]
     },
     "metadata": {},
     "output_type": "display_data"
    },
    {
     "data": {
      "application/vnd.jupyter.widget-view+json": {
       "model_id": "ba77f0b4385b4505a7db55522741e7ff",
       "version_major": 2,
       "version_minor": 0
      },
      "text/plain": [
       "  0%|          | 0/4 [00:00<?, ?it/s]"
      ]
     },
     "metadata": {},
     "output_type": "display_data"
    },
    {
     "data": {
      "application/vnd.jupyter.widget-view+json": {
       "model_id": "5f632e97cce746f3b3141347dce830f8",
       "version_major": 2,
       "version_minor": 0
      },
      "text/plain": [
       "  0%|          | 0/4 [00:00<?, ?it/s]"
      ]
     },
     "metadata": {},
     "output_type": "display_data"
    },
    {
     "data": {
      "application/vnd.jupyter.widget-view+json": {
       "model_id": "4985dd9c26994c19aea4ff40c0136308",
       "version_major": 2,
       "version_minor": 0
      },
      "text/plain": [
       "  0%|          | 0/4 [00:00<?, ?it/s]"
      ]
     },
     "metadata": {},
     "output_type": "display_data"
    },
    {
     "data": {
      "application/vnd.jupyter.widget-view+json": {
       "model_id": "1fc97b7bd95f4fccb46a1142b8630cc6",
       "version_major": 2,
       "version_minor": 0
      },
      "text/plain": [
       "  0%|          | 0/4 [00:00<?, ?it/s]"
      ]
     },
     "metadata": {},
     "output_type": "display_data"
    },
    {
     "data": {
      "application/vnd.jupyter.widget-view+json": {
       "model_id": "c3e129a10f2b45f395d74680f76997f6",
       "version_major": 2,
       "version_minor": 0
      },
      "text/plain": [
       "  0%|          | 0/4 [00:00<?, ?it/s]"
      ]
     },
     "metadata": {},
     "output_type": "display_data"
    },
    {
     "data": {
      "application/vnd.jupyter.widget-view+json": {
       "model_id": "b7b6c932343143689dc8f24747a817cd",
       "version_major": 2,
       "version_minor": 0
      },
      "text/plain": [
       "  0%|          | 0/4 [00:00<?, ?it/s]"
      ]
     },
     "metadata": {},
     "output_type": "display_data"
    },
    {
     "data": {
      "application/vnd.jupyter.widget-view+json": {
       "model_id": "31475a2b982943e49d3e459a4d94f9d0",
       "version_major": 2,
       "version_minor": 0
      },
      "text/plain": [
       "  0%|          | 0/4 [00:00<?, ?it/s]"
      ]
     },
     "metadata": {},
     "output_type": "display_data"
    },
    {
     "data": {
      "application/vnd.jupyter.widget-view+json": {
       "model_id": "74e47eaa91b24fcebe02b49ccb3b74f0",
       "version_major": 2,
       "version_minor": 0
      },
      "text/plain": [
       "  0%|          | 0/4 [00:00<?, ?it/s]"
      ]
     },
     "metadata": {},
     "output_type": "display_data"
    },
    {
     "data": {
      "application/vnd.jupyter.widget-view+json": {
       "model_id": "2a71ff53ffc843b1b17b3c0496e6e1a7",
       "version_major": 2,
       "version_minor": 0
      },
      "text/plain": [
       "  0%|          | 0/4 [00:00<?, ?it/s]"
      ]
     },
     "metadata": {},
     "output_type": "display_data"
    },
    {
     "data": {
      "application/vnd.jupyter.widget-view+json": {
       "model_id": "f39ed24581a344b88fd56140f396438f",
       "version_major": 2,
       "version_minor": 0
      },
      "text/plain": [
       "  0%|          | 0/4 [00:00<?, ?it/s]"
      ]
     },
     "metadata": {},
     "output_type": "display_data"
    },
    {
     "data": {
      "application/vnd.jupyter.widget-view+json": {
       "model_id": "463bd1791d014c4ca24e849e7442de37",
       "version_major": 2,
       "version_minor": 0
      },
      "text/plain": [
       "  0%|          | 0/4 [00:00<?, ?it/s]"
      ]
     },
     "metadata": {},
     "output_type": "display_data"
    },
    {
     "data": {
      "application/vnd.jupyter.widget-view+json": {
       "model_id": "98d68205819346ac93cb58955e9a9332",
       "version_major": 2,
       "version_minor": 0
      },
      "text/plain": [
       "  0%|          | 0/4 [00:00<?, ?it/s]"
      ]
     },
     "metadata": {},
     "output_type": "display_data"
    },
    {
     "data": {
      "application/vnd.jupyter.widget-view+json": {
       "model_id": "e0caf752176147c68462a910dda64bf6",
       "version_major": 2,
       "version_minor": 0
      },
      "text/plain": [
       "  0%|          | 0/4 [00:00<?, ?it/s]"
      ]
     },
     "metadata": {},
     "output_type": "display_data"
    },
    {
     "data": {
      "application/vnd.jupyter.widget-view+json": {
       "model_id": "6c379bb850b34d098186637cef34246d",
       "version_major": 2,
       "version_minor": 0
      },
      "text/plain": [
       "  0%|          | 0/4 [00:00<?, ?it/s]"
      ]
     },
     "metadata": {},
     "output_type": "display_data"
    },
    {
     "data": {
      "application/vnd.jupyter.widget-view+json": {
       "model_id": "0f672465443944a58f973cf7e17237a8",
       "version_major": 2,
       "version_minor": 0
      },
      "text/plain": [
       "  0%|          | 0/4 [00:00<?, ?it/s]"
      ]
     },
     "metadata": {},
     "output_type": "display_data"
    }
   ],
   "source": [
    "df = None\n",
    "for i in range(10):\n",
    "    df1 = run_experiment(batch_sizes_list, lambda_list, sampling_conventional)\n",
    "    df2 = run_experiment(batch_sizes_list, lambda_list, sampling_important)\n",
    "    \n",
    "    df1['version'] = i\n",
    "    df2['version'] = i\n",
    "    if df is None:\n",
    "        df = df1.append(df2)\n",
    "    else:\n",
    "        df = df.append(df1)\n",
    "        df = df.append(df2)"
   ]
  }
 ],
 "metadata": {
  "kernelspec": {
   "display_name": "Python 3 (ipykernel)",
   "language": "python",
   "name": "python3"
  },
  "language_info": {
   "codemirror_mode": {
    "name": "ipython",
    "version": 3
   },
   "file_extension": ".py",
   "mimetype": "text/x-python",
   "name": "python",
   "nbconvert_exporter": "python",
   "pygments_lexer": "ipython3",
   "version": "3.7.11"
  },
  "latex_envs": {
   "LaTeX_envs_menu_present": true,
   "autoclose": false,
   "autocomplete": true,
   "bibliofile": "biblio.bib",
   "cite_by": "apalike",
   "current_citInitial": 1,
   "eqLabelWithNumbers": true,
   "eqNumInitial": 1,
   "hotkeys": {
    "equation": "Ctrl-E",
    "itemize": "Ctrl-I"
   },
   "labels_anchors": false,
   "latex_user_defs": false,
   "report_style_numbering": false,
   "user_envs_cfg": false
  },
  "varInspector": {
   "cols": {
    "lenName": 16,
    "lenType": 16,
    "lenVar": 40
   },
   "kernels_config": {
    "python": {
     "delete_cmd_postfix": "",
     "delete_cmd_prefix": "del ",
     "library": "var_list.py",
     "varRefreshCmd": "print(var_dic_list())"
    },
    "r": {
     "delete_cmd_postfix": ") ",
     "delete_cmd_prefix": "rm(",
     "library": "var_list.r",
     "varRefreshCmd": "cat(var_dic_list()) "
    }
   },
   "types_to_exclude": [
    "module",
    "function",
    "builtin_function_or_method",
    "instance",
    "_Feature"
   ],
   "window_display": false
  }
 },
 "nbformat": 4,
 "nbformat_minor": 5
}
